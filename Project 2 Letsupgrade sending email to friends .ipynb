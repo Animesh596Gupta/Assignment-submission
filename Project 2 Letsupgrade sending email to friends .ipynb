{
 "cells": [
  {
   "cell_type": "code",
   "execution_count": 1,
   "metadata": {},
   "outputs": [
    {
     "name": "stdout",
     "output_type": "stream",
     "text": [
      "Collecting emails\n",
      "  Downloading emails-0.6-py2.py3-none-any.whl (56 kB)\n",
      "Requirement already satisfied: chardet in e:\\ananconda\\lib\\site-packages (from emails) (3.0.4)\n",
      "Collecting premailer\n",
      "  Downloading premailer-3.7.0-py2.py3-none-any.whl (18 kB)\n",
      "Requirement already satisfied: lxml in e:\\ananconda\\lib\\site-packages (from emails) (4.5.2)\n",
      "Collecting cssutils\n",
      "  Downloading cssutils-1.0.2-py3-none-any.whl (406 kB)\n",
      "Requirement already satisfied: python-dateutil in e:\\ananconda\\lib\\site-packages (from emails) (2.8.1)\n",
      "Requirement already satisfied: requests in e:\\ananconda\\lib\\site-packages (from emails) (2.24.0)\n",
      "Collecting cachetools\n",
      "  Downloading cachetools-4.2.0-py3-none-any.whl (12 kB)\n",
      "Collecting cssselect\n",
      "  Downloading cssselect-1.1.0-py2.py3-none-any.whl (16 kB)\n",
      "Requirement already satisfied: six>=1.5 in e:\\ananconda\\lib\\site-packages (from python-dateutil->emails) (1.15.0)\n",
      "Requirement already satisfied: certifi>=2017.4.17 in e:\\ananconda\\lib\\site-packages (from requests->emails) (2020.6.20)\n",
      "Requirement already satisfied: urllib3!=1.25.0,!=1.25.1,<1.26,>=1.21.1 in e:\\ananconda\\lib\\site-packages (from requests->emails) (1.25.9)\n",
      "Requirement already satisfied: idna<3,>=2.5 in e:\\ananconda\\lib\\site-packages (from requests->emails) (2.10)\n",
      "Installing collected packages: cachetools, cssselect, cssutils, premailer, emails\n",
      "Successfully installed cachetools-4.2.0 cssselect-1.1.0 cssutils-1.0.2 emails-0.6 premailer-3.7.0\n"
     ]
    }
   ],
   "source": [
    "! pip install emails"
   ]
  },
  {
   "cell_type": "markdown",
   "metadata": {},
   "source": [
    "# Lets start the project"
   ]
  },
  {
   "cell_type": "code",
   "execution_count": 4,
   "metadata": {},
   "outputs": [],
   "source": [
    "import emails"
   ]
  },
  {
   "cell_type": "code",
   "execution_count": 9,
   "metadata": {},
   "outputs": [],
   "source": [
    "html_text ='''<p><span style=\"font-family: Courier New, courier;\"><strong>Hello Animesh,</strong></span></p>\n",
    "              <p><span style=\"font-family: Courier New, courier;\"><br></span></p>\n",
    "              <p><span style=\"font-family: Courier New, courier;\">how are you &nbsp;this Admane dupati from python lecture of letsupgrade,</span></p>\n",
    "              <p><span style=\"font-family: Courier New, courier;\"><br></span></p>\n",
    "              <p><span style=\"font-family: Courier New, courier;\">your friend Admane from maharashtra is coming to your home !!</span></p>\n",
    "              <p><span style=\"font-family: Courier New, courier;\">hope next year is good for all with greeting you like this message</span></p>\n",
    "              <p><span style=\"font-family: Courier New, courier;\">your faithfully,</span></p>\n",
    "              <p><span style=\"font-family: Courier New, courier;\">cousin</span></p>\n",
    "              <p><span style=\"font-family: Courier New, courier;\"><strong>Admane dupati</strong></span></p>\n",
    "              <p>&nbsp;</p>'''\n",
    "\n",
    "\n",
    "\n",
    "message = emails.html(html=html_text,\n",
    "                          subject=\"Your EMAIL FROM PYTHON SCRIPT\",\n",
    "                          mail_from=('Animesh', 'dupatiAdmane@gmail.com'))"
   ]
  },
  {
   "cell_type": "code",
   "execution_count": 10,
   "metadata": {},
   "outputs": [],
   "source": [
    "mail_via_python = message.send(to='kasay12410@febeks.com', \n",
    "                               smtp={'host': 'smtp.gmail.com', \n",
    "                                     'timeout': 5,\n",
    "                                    'port':587,\n",
    "                                    'user':'dupatiAdmane@gmail.com',\n",
    "                                    'password':'oranax@123',\n",
    "                                    'tls':True})\n"
   ]
  },
  {
   "cell_type": "code",
   "execution_count": 11,
   "metadata": {},
   "outputs": [
    {
     "data": {
      "text/plain": [
       "<emails.backend.SMTPResponse status_code=None status_text=None>"
      ]
     },
     "execution_count": 11,
     "metadata": {},
     "output_type": "execute_result"
    }
   ],
   "source": [
    "mail_via_python"
   ]
  },
  {
   "cell_type": "code",
   "execution_count": 15,
   "metadata": {},
   "outputs": [],
   "source": [
    "def sendMail(email, name):\n",
    "    \n",
    "    html_text = '''<p><span style=\"font-family: Courier New, courier;\"><strong>Hello Animesh,</strong></span></p>\n",
    "              <p><span style=\"font-family: Courier New, courier;\"><br></span></p>\n",
    "              <p><span style=\"font-family: Courier New, courier;\">how are you &nbsp;this Admane dupati from python lecture of letsupgrade,</span></p>\n",
    "              <p><span style=\"font-family: Courier New, courier;\"><br></span></p>\n",
    "              <p><span style=\"font-family: Courier New, courier;\">your friend Admane from maharashtra is coming to your home !!</span></p>\n",
    "              <p><span style=\"font-family: Courier New, courier;\">hope next year is good for all with greeting you like this message</span></p>\n",
    "              <p><span style=\"font-family: Courier New, courier;\">your faithfully,</span></p>\n",
    "              <p><span style=\"font-family: Courier New, courier;\">cousin</span></p>\n",
    "              <p><span style=\"font-family: Courier New, courier;\"><strong>Admane dupati</strong></span></p>\n",
    "              <p>&nbsp;</p>''' \n",
    "\n",
    "    subject = \"Hello Animesh \"+ name + \", you have EMAIL FROM Admane\"\n",
    "    message = emails.html(html=html_text,\n",
    "                          subject=subject,\n",
    "                          mail_from=('Animesh', 'dupatiAdmane@gmail.com'))\n",
    "\n",
    "    \n",
    "    mail_via_python = message.send(to=email, \n",
    "                               smtp={'host': 'smtp.gmail.com', \n",
    "                                     'timeout': 5,\n",
    "                                    'port':587,\n",
    "                                    'user':'dupatiAdmane@gmail.com',\n",
    "                                    'password':'oranax@123',\n",
    "                                    'tls':True})\n",
    "    return mail_via_python.status_code"
   ]
  },
  {
   "cell_type": "code",
   "execution_count": 17,
   "metadata": {},
   "outputs": [],
   "source": [
    "sendMail(\"kasay12410@febeks.com\",\"Animesh\")"
   ]
  },
  {
   "cell_type": "code",
   "execution_count": null,
   "metadata": {},
   "outputs": [],
   "source": []
  },
  {
   "cell_type": "code",
   "execution_count": null,
   "metadata": {},
   "outputs": [],
   "source": []
  }
 ],
 "metadata": {
  "kernelspec": {
   "display_name": "Python 3",
   "language": "python",
   "name": "python3"
  },
  "language_info": {
   "codemirror_mode": {
    "name": "ipython",
    "version": 3
   },
   "file_extension": ".py",
   "mimetype": "text/x-python",
   "name": "python",
   "nbconvert_exporter": "python",
   "pygments_lexer": "ipython3",
   "version": "3.8.3"
  }
 },
 "nbformat": 4,
 "nbformat_minor": 4
}
