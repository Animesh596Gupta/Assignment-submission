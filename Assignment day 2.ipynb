{
 "cells": [
  {
   "cell_type": "markdown",
   "metadata": {},
   "source": [
    "1.Try 5 different function of string in python. Assignment 1  Day 2\n"
   ]
  },
  {
   "cell_type": "code",
   "execution_count": 8,
   "metadata": {},
   "outputs": [
    {
     "data": {
      "text/plain": [
       "'hello programmer'"
      ]
     },
     "execution_count": 8,
     "metadata": {},
     "output_type": "execute_result"
    }
   ],
   "source": [
    "# lower () method\n",
    "\"HELLO proGrammer\".lower()"
   ]
  },
  {
   "cell_type": "code",
   "execution_count": 9,
   "metadata": {},
   "outputs": [
    {
     "data": {
      "text/plain": [
       "'PYTHON IS GOOD'"
      ]
     },
     "execution_count": 9,
     "metadata": {},
     "output_type": "execute_result"
    }
   ],
   "source": [
    "# upper()method\n",
    "\"python is good\".upper()"
   ]
  },
  {
   "cell_type": "code",
   "execution_count": 10,
   "metadata": {},
   "outputs": [
    {
     "data": {
      "text/plain": [
       "'geeksforgeeks'"
      ]
     },
     "execution_count": 10,
     "metadata": {},
     "output_type": "execute_result"
    }
   ],
   "source": [
    "#join() method\n",
    "''.join([\"geeks\",\"for\",\"geeks\"])"
   ]
  },
  {
   "cell_type": "code",
   "execution_count": 11,
   "metadata": {},
   "outputs": [
    {
     "data": {
      "text/plain": [
       "6"
      ]
     },
     "execution_count": 11,
     "metadata": {},
     "output_type": "execute_result"
    }
   ],
   "source": [
    "#find() method\n",
    "\"happy christmas\".find('ch')"
   ]
  },
  {
   "cell_type": "code",
   "execution_count": 12,
   "metadata": {},
   "outputs": [
    {
     "data": {
      "text/plain": [
       "'next year is good'"
      ]
     },
     "execution_count": 12,
     "metadata": {},
     "output_type": "execute_result"
    }
   ],
   "source": [
    "#replace() method\n",
    "\"this year is good\".replace('this','next')"
   ]
  },
  {
   "cell_type": "markdown",
   "metadata": {},
   "source": [
    "2. Try 5 different function of the list objects in python.   Assignment 2    Day 2"
   ]
  },
  {
   "cell_type": "code",
   "execution_count": 15,
   "metadata": {},
   "outputs": [
    {
     "name": "stdout",
     "output_type": "stream",
     "text": [
      "None\n",
      "[3, 5, 6, 4, 2, 1, 0, 22]\n",
      "1\n",
      "[3, 5, 6, 4, 2, 1, 0, 22]\n",
      "None\n",
      "[22, 0, 1, 2, 4, 6, 5, 3]\n",
      "None\n",
      "[0, 1, 2, 3, 4, 5, 6, 22]\n",
      "None\n",
      "[0, 1, 2, 3, 4, 6, 22]\n"
     ]
    }
   ],
   "source": [
    "# python list objects\n",
    "my_list=[3,5,6,4,2,1,0]\n",
    "\n",
    "# append() method\n",
    "print(my_list.append(22))\n",
    "print(my_list)\n",
    "\n",
    "#count() metod\n",
    "print(my_list.count(4))\n",
    "print(my_list)\n",
    "\n",
    "#reverse() method\n",
    "print(my_list.reverse())\n",
    "print(my_list)\n",
    "\n",
    "#sort() method\n",
    "print(my_list.sort())\n",
    "print(my_list)\n",
    "\n",
    "#remove() method\n",
    "print(my_list.remove(5))\n",
    "print(my_list)\n"
   ]
  },
  {
   "cell_type": "markdown",
   "metadata": {},
   "source": [
    "3. Experiment with atleast 5 default functions of dictionary.  Assignment 2  Day2"
   ]
  },
  {
   "cell_type": "code",
   "execution_count": 18,
   "metadata": {},
   "outputs": [
    {
     "name": "stdout",
     "output_type": "stream",
     "text": [
      "False\n",
      "True\n",
      "6\n",
      "[0, 1, 3, 5, 7, 9]\n",
      "dict_keys([0, 1, 3, 5, 7, 9])\n"
     ]
    }
   ],
   "source": [
    "# dictionary defaults functions\n",
    "squares={0:0, 1:1, 3:9, 5:25, 7:49, 9:81}\n",
    "print(all(squares))\n",
    "print(any(squares))\n",
    "print(len(squares))\n",
    "print(sorted(squares))\n",
    "print(squares.keys())"
   ]
  },
  {
   "cell_type": "code",
   "execution_count": null,
   "metadata": {},
   "outputs": [],
   "source": []
  }
 ],
 "metadata": {
  "kernelspec": {
   "display_name": "Python 3",
   "language": "python",
   "name": "python3"
  },
  "language_info": {
   "codemirror_mode": {
    "name": "ipython",
    "version": 3
   },
   "file_extension": ".py",
   "mimetype": "text/x-python",
   "name": "python",
   "nbconvert_exporter": "python",
   "pygments_lexer": "ipython3",
   "version": "3.8.3"
  }
 },
 "nbformat": 4,
 "nbformat_minor": 4
}
